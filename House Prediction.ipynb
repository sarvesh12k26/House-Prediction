{
 "cells": [
  {
   "cell_type": "code",
   "execution_count": 1,
   "metadata": {},
   "outputs": [],
   "source": [
    "#Importing the libraries\n",
    "import numpy as np\n",
    "import matplotlib.pyplot as plt\n",
    "import pandas as pd\n",
    "\n",
    "#Importing the dataset\n",
    "dataset=pd.read_csv('Predicting-House-Prices-In-Bengaluru-Train-Data.csv')\n",
    "X=dataset.iloc[:,[0,1,3,5,6,7]].values\n",
    "y=dataset.iloc[:,8].values"
   ]
  },
  {
   "cell_type": "code",
   "execution_count": 2,
   "metadata": {},
   "outputs": [],
   "source": [
    "#Handle missing data\n",
    "from sklearn.preprocessing import Imputer\n",
    "imputer=Imputer(missing_values='NaN',strategy='mean',axis=0)\n",
    "imputer=imputer.fit(X[:,5:6])\n",
    "X[:,5:6]=imputer.transform(X[:,5:6])\n",
    "Xdf=pd.DataFrame(X)"
   ]
  },
  {
   "cell_type": "code",
   "execution_count": 3,
   "metadata": {},
   "outputs": [
    {
     "name": "stderr",
     "output_type": "stream",
     "text": [
      "C:\\Users\\Sarvesh\\Anaconda3\\lib\\site-packages\\pandas\\core\\indexing.py:189: SettingWithCopyWarning: \n",
      "A value is trying to be set on a copy of a slice from a DataFrame\n",
      "\n",
      "See the caveats in the documentation: http://pandas.pydata.org/pandas-docs/stable/indexing.html#indexing-view-versus-copy\n",
      "  self._setitem_with_indexer(indexer, value)\n"
     ]
    }
   ],
   "source": [
    "#To remove the BHK or Bedroom words from column\n",
    "Xdf[2]=Xdf[2].str.rstrip('BHKRedroom').astype('float')\n",
    "#To replace dates with Under Construction\n",
    "Xdf[1].loc[Xdf[1].str.contains('-')]='Under Construction'"
   ]
  },
  {
   "cell_type": "code",
   "execution_count": 4,
   "metadata": {},
   "outputs": [],
   "source": [
    "#Encoding categorical variable\n",
    "from sklearn.preprocessing import LabelEncoder, OneHotEncoder\n",
    "labelEncoder_Xdf=LabelEncoder()\n",
    "labelEncoder_Xdf.fit(Xdf.values[:,0])\n",
    "Xdf[0]=labelEncoder_Xdf.transform(Xdf[0])\n",
    "\n",
    "labelEncoder_Xdf1=LabelEncoder()\n",
    "labelEncoder_Xdf1.fit(Xdf.values[:,1])\n",
    "Xdf[1]=labelEncoder_Xdf1.transform(Xdf[1])"
   ]
  },
  {
   "cell_type": "code",
   "execution_count": 5,
   "metadata": {},
   "outputs": [],
   "source": [
    "#Creating seperate columns i.e using Hot Encoding\n",
    "oneHotEncoder=OneHotEncoder()\n",
    "oneHotEncoder.fit(Xdf.values[:,0:1])\n",
    "onehot=oneHotEncoder.transform(Xdf.values[:,0:1]).toarray()\n",
    "Xdf=Xdf.join(pd.DataFrame(onehot),rsuffix='_0')\n",
    "Xdf=Xdf.values[:,:9]\n",
    "Xdf=pd.DataFrame(Xdf)\n",
    "Xdf=Xdf.values[:,1:]\n",
    "Xdf=pd.DataFrame(Xdf)\n",
    "\n",
    "oneHotEncoder1=OneHotEncoder()\n",
    "oneHotEncoder1.fit(Xdf.values[:,0:1])\n",
    "onehot=oneHotEncoder1.transform(Xdf.values[:,0:1]).toarray()\n",
    "Xdf=Xdf.join(pd.DataFrame(onehot[:,[0,1]]),rsuffix='_0')\n",
    "Xdf=Xdf.values[:,1:]\n",
    "Xdf=pd.DataFrame(Xdf)"
   ]
  },
  {
   "cell_type": "code",
   "execution_count": 6,
   "metadata": {},
   "outputs": [],
   "source": [
    "#Renaming columns\n",
    "Xdf.columns=['size','total_sqft','bath','balcony','built_up','carpet','plot','immediate','readymove']\n",
    "\n",
    "#Xdf['total_sqft'].loc[Xdf['total_sqft'].str.contains('-')]\n",
    "for i,element in enumerate(Xdf['total_sqft']):\n",
    "    if '-' in element:\n",
    "        element=element.replace(\" \",\"\")\n",
    "        parts=element.split('-')\n",
    "        element=str((float(parts[0])+float(parts[1]))/2)\n",
    "        Xdf['total_sqft'][i]=element\n",
    "    elif 'Yards' in element:\n",
    "        element=element.replace('Sq. Yards','')\n",
    "        element=str(float(element)*9)\n",
    "        Xdf['total_sqft'][i]=element\n",
    "    elif 'Meter' in element:\n",
    "        element=element.replace('Sq. Meter','')\n",
    "        element=str(float(element)*10.7639)\n",
    "        Xdf['total_sqft'][i]=element\n",
    "    elif 'Acres' in element:\n",
    "        element=element.replace('Acres','')\n",
    "        element=str(float(element)*43560)\n",
    "        Xdf['total_sqft'][i]=element\n",
    "    elif 'Guntha' in element:\n",
    "        element=element.replace('Guntha','')\n",
    "        element=str(float(element)*1089)\n",
    "        Xdf['total_sqft'][i]=element\n",
    "    elif 'Cents' in element:\n",
    "        element=element.replace('Cents','')\n",
    "        element=str(float(element)*435.61)\n",
    "        Xdf['total_sqft'][i]=element\n",
    "    elif 'Perch' in element:\n",
    "        element=element.replace('Perch','')\n",
    "        element=str(float(element)*272.25)\n",
    "        Xdf['total_sqft'][i]=element\n",
    "    elif 'Grounds' in element:\n",
    "        element=element.replace('Grounds','')\n",
    "        element=str(float(element)*2400)\n",
    "        Xdf['total_sqft'][i]=element\n",
    "#Deleting one row        \n",
    "Xdf=Xdf.drop([4086])\n",
    "y = np.delete(y, (4086), axis=0)"
   ]
  },
  {
   "cell_type": "code",
   "execution_count": 7,
   "metadata": {},
   "outputs": [],
   "source": [
    "#Handle missing data\n",
    "X1=Xdf.values\n",
    "from sklearn.preprocessing import Imputer\n",
    "imputer=Imputer(missing_values='NaN',strategy='mean',axis=0)\n",
    "imputer=imputer.fit(X1[:,[0,2]])\n",
    "X1[:,[0,2]]=imputer.transform(X1[:,[0,2]])\n",
    "Xdf=pd.DataFrame(X1)"
   ]
  },
  {
   "cell_type": "code",
   "execution_count": 8,
   "metadata": {},
   "outputs": [
    {
     "name": "stderr",
     "output_type": "stream",
     "text": [
      "C:\\Users\\Sarvesh\\Anaconda3\\lib\\site-packages\\sklearn\\cross_validation.py:41: DeprecationWarning: This module was deprecated in version 0.18 in favor of the model_selection module into which all the refactored classes and functions are moved. Also note that the interface of the new CV iterators are different from that of this module. This module will be removed in 0.20.\n",
      "  \"This module will be removed in 0.20.\", DeprecationWarning)\n"
     ]
    }
   ],
   "source": [
    "####################################Splitting and feature scaling###################\n",
    "from sklearn.cross_validation import train_test_split\n",
    "X_train, X_test, y_train, y_test = train_test_split(Xdf, y, test_size = 0.2, random_state = 0)\n",
    "\n",
    "from sklearn.preprocessing import StandardScaler\n",
    "sc_X = StandardScaler()\n",
    "X_train = sc_X.fit_transform(X_train)\n",
    "X_test = sc_X.transform(X_test)\n",
    "sc_y = StandardScaler()\n",
    "y_train = sc_y.fit_transform(y_train.reshape(-1,1))"
   ]
  },
  {
   "cell_type": "code",
   "execution_count": 9,
   "metadata": {},
   "outputs": [],
   "source": [
    "############################Appying Linear Regression######################\n",
    "from sklearn.linear_model import LinearRegression\n",
    "regressor=LinearRegression()\n",
    "regressor.fit(X_train,y_train)\n",
    "\n",
    "y_pred = regressor.predict(X_test)\n",
    "y_pred=sc_y.inverse_transform(y_pred)"
   ]
  },
  {
   "cell_type": "code",
   "execution_count": 10,
   "metadata": {},
   "outputs": [
    {
     "data": {
      "text/plain": [
       "122.25019077868501"
      ]
     },
     "execution_count": 10,
     "metadata": {},
     "output_type": "execute_result"
    }
   ],
   "source": [
    "####### Model Accuracy using RMSE#############\n",
    "from sklearn.metrics import mean_squared_error\n",
    "from math import sqrt\n",
    "sqrt(mean_squared_error(y_test,y_pred))"
   ]
  },
  {
   "cell_type": "code",
   "execution_count": 11,
   "metadata": {
    "scrolled": false
   },
   "outputs": [
    {
     "data": {
      "text/plain": [
       "array([ 43.2, 117. ,  75. , ..., 100. , 395. , 290. ])"
      ]
     },
     "execution_count": 11,
     "metadata": {},
     "output_type": "execute_result"
    }
   ],
   "source": [
    "y_test"
   ]
  },
  {
   "cell_type": "code",
   "execution_count": 12,
   "metadata": {},
   "outputs": [
    {
     "data": {
      "text/plain": [
       "array([[ 75.90855347],\n",
       "       [126.45082011],\n",
       "       [112.18731865],\n",
       "       ...,\n",
       "       [197.89709248],\n",
       "       [265.56385048],\n",
       "       [554.01028433]])"
      ]
     },
     "execution_count": 12,
     "metadata": {},
     "output_type": "execute_result"
    }
   ],
   "source": [
    "y_pred"
   ]
  }
 ],
 "metadata": {
  "kernelspec": {
   "display_name": "Python 3",
   "language": "python",
   "name": "python3"
  },
  "language_info": {
   "codemirror_mode": {
    "name": "ipython",
    "version": 3
   },
   "file_extension": ".py",
   "mimetype": "text/x-python",
   "name": "python",
   "nbconvert_exporter": "python",
   "pygments_lexer": "ipython3",
   "version": "3.5.5"
  }
 },
 "nbformat": 4,
 "nbformat_minor": 2
}
